{
 "cells": [
  {
   "cell_type": "markdown",
   "metadata": {},
   "source": [
    "### Import libraries "
   ]
  },
  {
   "cell_type": "code",
   "execution_count": 121,
   "metadata": {},
   "outputs": [],
   "source": [
    "import numpy as np\n",
    "import pandas as pd\n",
    "import matplotlib.pyplot as plt\n",
    "import seaborn as sns\n",
    "sns.set()\n",
    "\n",
    "from sklearn.metrics import confusion_matrix\n",
    "from sklearn.metrics import accuracy_score\n",
    "\n",
    "from keras.models import Sequential\n",
    "from keras.layers import Dense, Dropout, BatchNormalization\n",
    "from keras.layers import Conv1D, MaxPooling1D, Flatten"
   ]
  },
  {
   "cell_type": "markdown",
   "metadata": {},
   "source": [
    "### Load the signals"
   ]
  },
  {
   "cell_type": "code",
   "execution_count": 5,
   "metadata": {},
   "outputs": [],
   "source": [
    "# In this approach raw signals are used instead of the handcoded features\n",
    "\n",
    "SIGNALS = [\n",
    "    \"body_acc_x\",\n",
    "    \"body_acc_y\",\n",
    "    \"body_acc_z\",\n",
    "    \"body_gyro_x\",\n",
    "    \"body_gyro_y\",\n",
    "    \"body_gyro_z\",\n",
    "    \"total_acc_x\",\n",
    "    \"total_acc_y\",\n",
    "    \"total_acc_z\"    \n",
    "]\n"
   ]
  },
  {
   "cell_type": "code",
   "execution_count": 6,
   "metadata": {},
   "outputs": [],
   "source": [
    "# utility functions to read data from csv file\n",
    "def _read_csv(filename):\n",
    "    return pd.read_csv(filename, delim_whitespace=True, header=None)\n",
    "\n",
    "def load_signals(subset):\n",
    "    signals_data = []\n",
    "    for signal in SIGNALS:\n",
    "        filename = f'HAR/UCI_HAR_Dataset/{subset}/Inertial Signals/{signal}_{subset}.txt'\n",
    "        signals_data.append(_read_csv(filename).to_numpy())\n",
    "    return np.transpose(signals_data,(1,2,0))"
   ]
  },
  {
   "cell_type": "code",
   "execution_count": 7,
   "metadata": {},
   "outputs": [],
   "source": [
    "def load_y(subset):\n",
    "    \"\"\"One hot encoding of the labels 0,1,2,3,4,5,6 classes\"\"\"\n",
    "    \n",
    "    fname = f'HAR/UCI_HAR_Dataset/{subset}/y_{subset}.txt'\n",
    "    y = _read_csv(fname)[0]\n",
    "    return pd.get_dummies(y).to_numpy()"
   ]
  },
  {
   "cell_type": "code",
   "execution_count": 8,
   "metadata": {},
   "outputs": [],
   "source": [
    "def load_data():\n",
    "    \"\"\" function to obtain \"\"\"\n",
    "    \n",
    "    X_train, X_test = load_signals('train'),load_signals('test')\n",
    "    y_train, y_test = load_y('train'), load_y('test')\n",
    "    \n",
    "    return X_train, X_test, y_train, y_test"
   ]
  },
  {
   "cell_type": "code",
   "execution_count": 9,
   "metadata": {},
   "outputs": [],
   "source": [
    "X_train, X_test, Y_train, Y_test = load_data()"
   ]
  },
  {
   "cell_type": "code",
   "execution_count": 64,
   "metadata": {},
   "outputs": [],
   "source": [
    "#Utility function to plot confusion matrix\n",
    "\n",
    "import itertools\n",
    "from sklearn.metrics import confusion_matrix\n",
    "\n",
    "def plot_confusion_matrix(cm, classes, normalize = False, title=\"Confusion Matrix\", cmap=plt.cm.Blues):\n",
    "    if normalize:\n",
    "        cm = cm.astype('float') / cm.sum(axis = 1)[:, np.newaxis]\n",
    "    plt.imshow(cm, interpolation='nearest', cmap = cmap)\n",
    "    plt.title(title)\n",
    "    plt.colorbar()\n",
    "    tick_marks = np.arange(len(classes))\n",
    "    plt.xticks(tick_marks, classes, rotation=90)\n",
    "    plt.yticks(tick_marks, classes)\n",
    "        \n",
    "    fmt = '.2f' if normalize else 'd'\n",
    "    thresh = cm.max() / 2.0\n",
    "        \n",
    "    for i, j in itertools.product(range(cm.shape[0]), range(cm.shape[1])):\n",
    "        plt.text(j, i , format(cm[i,j], fmt),\n",
    "                horizontalalignment = 'center', color='white' if cm[i, j] > thresh else 'black')\n",
    "    plt.tight_layout()\n",
    "    plt.ylabel(\"True label\")\n",
    "    plt.xlabel(\"Predicted label\")"
   ]
  },
  {
   "cell_type": "markdown",
   "metadata": {},
   "source": [
    "### Split the data into Dynamic and Static activities "
   ]
  },
  {
   "cell_type": "code",
   "execution_count": 11,
   "metadata": {},
   "outputs": [],
   "source": [
    "def test_split(subset):\n",
    "    \"\"\"The method splits the test data into dynamic and static activities and returns one hot encoded values of test\"\"\"\n",
    "    fname = f'HAR/UCI_HAR_Dataset/{subset}/y_{subset}.txt'\n",
    "    y = _read_csv(fname)[0]\n",
    "    y[y<=3] = 0 #Dynamic activities WALKING, WALKING_UPSTAIRS, WALKING_DOWNSTAIRS\n",
    "    y[y>3] = 1  #Static activities STANDING, SITTING, LAYING\n",
    "    return pd.get_dummies(y).to_numpy()"
   ]
  },
  {
   "cell_type": "code",
   "execution_count": 12,
   "metadata": {},
   "outputs": [],
   "source": [
    "y_train_split, y_test_split = test_split('train'), test_split('test')"
   ]
  },
  {
   "cell_type": "code",
   "execution_count": 13,
   "metadata": {},
   "outputs": [
    {
     "name": "stdout",
     "output_type": "stream",
     "text": [
      "(7352, 2)\n",
      "(2947, 2)\n"
     ]
    }
   ],
   "source": [
    "print(y_train_split.shape)\n",
    "print(y_test_split.shape)"
   ]
  },
  {
   "cell_type": "markdown",
   "metadata": {},
   "source": [
    "### Model1 - classifying data into Static and Dynamic Activities"
   ]
  },
  {
   "cell_type": "code",
   "execution_count": 14,
   "metadata": {},
   "outputs": [],
   "source": [
    "model = Sequential()\n",
    "model.add(Conv1D(filters = 64, kernel_size=3, activation='relu',kernel_initializer='he_uniform', input_shape=(128,9)))\n",
    "model.add(Conv1D(filters = 64, kernel_size=3, activation='relu',kernel_initializer='he_uniform'))\n",
    "model.add(Dropout(0.4))\n",
    "model.add(MaxPooling1D(pool_size=2))\n",
    "model.add(Flatten())\n",
    "model.add(Dense(64, activation='relu'))\n",
    "model.add(Dense(2, activation='sigmoid'))\n",
    "model.compile(loss='binary_crossentropy', optimizer='adam', metrics=['accuracy'])"
   ]
  },
  {
   "cell_type": "code",
   "execution_count": 15,
   "metadata": {},
   "outputs": [
    {
     "name": "stdout",
     "output_type": "stream",
     "text": [
      "Train on 7352 samples, validate on 2947 samples\n",
      "Epoch 1/30\n",
      "7352/7352 [==============================] - 5s 653us/step - loss: 0.0235 - accuracy: 0.9915 - val_loss: 0.0153 - val_accuracy: 0.9964\n",
      "Epoch 2/30\n",
      "7352/7352 [==============================] - 2s 300us/step - loss: 0.0027 - accuracy: 0.9990 - val_loss: 0.1328 - val_accuracy: 0.9664\n",
      "Epoch 3/30\n",
      "7352/7352 [==============================] - 2s 310us/step - loss: 0.0025 - accuracy: 0.9994 - val_loss: 0.0094 - val_accuracy: 0.9976\n",
      "Epoch 4/30\n",
      "7352/7352 [==============================] - 2s 312us/step - loss: 0.0035 - accuracy: 0.9986 - val_loss: 0.1729 - val_accuracy: 0.9603\n",
      "Epoch 5/30\n",
      "7352/7352 [==============================] - 2s 321us/step - loss: 9.3753e-04 - accuracy: 0.9998 - val_loss: 0.0176 - val_accuracy: 0.9968\n",
      "Epoch 6/30\n",
      "7352/7352 [==============================] - 2s 312us/step - loss: 6.8007e-05 - accuracy: 1.0000 - val_loss: 0.0214 - val_accuracy: 0.9969\n",
      "Epoch 7/30\n",
      "7352/7352 [==============================] - 2s 312us/step - loss: 1.1787e-05 - accuracy: 1.0000 - val_loss: 0.0229 - val_accuracy: 0.9968\n",
      "Epoch 8/30\n",
      "7352/7352 [==============================] - 2s 310us/step - loss: 5.9663e-06 - accuracy: 1.0000 - val_loss: 0.0254 - val_accuracy: 0.9963\n",
      "Epoch 9/30\n",
      "7352/7352 [==============================] - 2s 311us/step - loss: 3.1898e-06 - accuracy: 1.0000 - val_loss: 0.0262 - val_accuracy: 0.9963\n",
      "Epoch 10/30\n",
      "7352/7352 [==============================] - 2s 307us/step - loss: 2.3534e-06 - accuracy: 1.0000 - val_loss: 0.0263 - val_accuracy: 0.9963\n",
      "Epoch 11/30\n",
      "7352/7352 [==============================] - 2s 307us/step - loss: 2.0257e-06 - accuracy: 1.0000 - val_loss: 0.0263 - val_accuracy: 0.9966\n",
      "Epoch 12/30\n",
      "7352/7352 [==============================] - 2s 313us/step - loss: 1.5406e-06 - accuracy: 1.0000 - val_loss: 0.0275 - val_accuracy: 0.9964\n",
      "Epoch 13/30\n",
      "7352/7352 [==============================] - 2s 312us/step - loss: 1.0703e-06 - accuracy: 1.0000 - val_loss: 0.0276 - val_accuracy: 0.9966\n",
      "Epoch 14/30\n",
      "7352/7352 [==============================] - 2s 317us/step - loss: 6.0045e-07 - accuracy: 1.0000 - val_loss: 0.0271 - val_accuracy: 0.9966\n",
      "Epoch 15/30\n",
      "7352/7352 [==============================] - 2s 320us/step - loss: 5.0127e-07 - accuracy: 1.0000 - val_loss: 0.0287 - val_accuracy: 0.9966\n",
      "Epoch 16/30\n",
      "7352/7352 [==============================] - 2s 307us/step - loss: 3.8636e-07 - accuracy: 1.0000 - val_loss: 0.0287 - val_accuracy: 0.9966\n",
      "Epoch 17/30\n",
      "7352/7352 [==============================] - 2s 322us/step - loss: 3.2584e-07 - accuracy: 1.0000 - val_loss: 0.0296 - val_accuracy: 0.9966\n",
      "Epoch 18/30\n",
      "7352/7352 [==============================] - 2s 314us/step - loss: 2.8949e-07 - accuracy: 1.0000 - val_loss: 0.0295 - val_accuracy: 0.9966\n",
      "Epoch 19/30\n",
      "7352/7352 [==============================] - 2s 308us/step - loss: 1.7532e-07 - accuracy: 1.0000 - val_loss: 0.0297 - val_accuracy: 0.9966\n",
      "Epoch 20/30\n",
      "7352/7352 [==============================] - 2s 312us/step - loss: 2.1768e-07 - accuracy: 1.0000 - val_loss: 0.0298 - val_accuracy: 0.9966\n",
      "Epoch 21/30\n",
      "7352/7352 [==============================] - 2s 331us/step - loss: 1.1732e-07 - accuracy: 1.0000 - val_loss: 0.0302 - val_accuracy: 0.9966\n",
      "Epoch 22/30\n",
      "7352/7352 [==============================] - 2s 322us/step - loss: 1.0726e-07 - accuracy: 1.0000 - val_loss: 0.0307 - val_accuracy: 0.9966\n",
      "Epoch 23/30\n",
      "7352/7352 [==============================] - 2s 313us/step - loss: 9.7729e-08 - accuracy: 1.0000 - val_loss: 0.0334 - val_accuracy: 0.9966\n",
      "Epoch 24/30\n",
      "7352/7352 [==============================] - 2s 308us/step - loss: 1.0819e-06 - accuracy: 1.0000 - val_loss: 0.0316 - val_accuracy: 0.9973\n",
      "Epoch 25/30\n",
      "7352/7352 [==============================] - 2s 316us/step - loss: 0.0141 - accuracy: 0.9979 - val_loss: 0.0145 - val_accuracy: 0.9973\n",
      "Epoch 26/30\n",
      "7352/7352 [==============================] - 2s 311us/step - loss: 3.9620e-04 - accuracy: 0.9999 - val_loss: 0.0168 - val_accuracy: 0.9983\n",
      "Epoch 27/30\n",
      "7352/7352 [==============================] - 2s 320us/step - loss: 1.2157e-04 - accuracy: 1.0000 - val_loss: 0.0111 - val_accuracy: 0.9985\n",
      "Epoch 28/30\n",
      "7352/7352 [==============================] - 2s 327us/step - loss: 5.4777e-06 - accuracy: 1.0000 - val_loss: 0.0127 - val_accuracy: 0.9986\n",
      "Epoch 29/30\n",
      "7352/7352 [==============================] - 2s 318us/step - loss: 1.9038e-07 - accuracy: 1.0000 - val_loss: 0.0127 - val_accuracy: 0.9986\n",
      "Epoch 30/30\n",
      "7352/7352 [==============================] - 2s 312us/step - loss: 1.9433e-07 - accuracy: 1.0000 - val_loss: 0.0128 - val_accuracy: 0.9986\n"
     ]
    },
    {
     "data": {
      "text/plain": [
       "<keras.callbacks.callbacks.History at 0x1f0d7f5c308>"
      ]
     },
     "execution_count": 15,
     "metadata": {},
     "output_type": "execute_result"
    }
   ],
   "source": [
    "model.fit(X_train, y_train_split, epochs=30, batch_size=16, validation_data=(X_test, y_test_split))"
   ]
  },
  {
   "cell_type": "code",
   "execution_count": 16,
   "metadata": {},
   "outputs": [],
   "source": [
    "#saving the model for future use\n",
    "model.save('HAR_Proj/model/binary_model.h5')"
   ]
  },
  {
   "cell_type": "markdown",
   "metadata": {},
   "source": [
    "> __Note:__ The above model has 99.86% accuracy on test data"
   ]
  },
  {
   "cell_type": "markdown",
   "metadata": {},
   "source": [
    "### Model2 - Classifying Static activities"
   ]
  },
  {
   "cell_type": "code",
   "execution_count": 17,
   "metadata": {},
   "outputs": [],
   "source": [
    "def load_static_data(subset):\n",
    "    \"\"\"This method returns \n",
    "        a. one hot encoded labels of static actvities \n",
    "        b. pandas series containing static activities\"\"\"\n",
    "    fname = f'HAR/UCI_HAR_Dataset/{subset}/y_{subset}.txt'\n",
    "    y = _read_csv(fname)[0]\n",
    "    y_df = y > 3\n",
    "    y=y[y_df]\n",
    "    return pd.get_dummies(y).to_numpy(),y_df"
   ]
  },
  {
   "cell_type": "code",
   "execution_count": 19,
   "metadata": {},
   "outputs": [],
   "source": [
    "y_train_static, X_train_df = load_static_data('train')\n",
    "y_test_static, X_test_df = load_static_data('test')"
   ]
  },
  {
   "cell_type": "code",
   "execution_count": 21,
   "metadata": {},
   "outputs": [],
   "source": [
    "X_train_static = X_train[X_train_df]\n",
    "X_test_static = X_test[X_test_df]"
   ]
  },
  {
   "cell_type": "code",
   "execution_count": 23,
   "metadata": {},
   "outputs": [
    {
     "name": "stdout",
     "output_type": "stream",
     "text": [
      "(4067, 128, 9)\n",
      "(4067, 3)\n",
      "(1560, 128, 9)\n",
      "(1560, 3)\n"
     ]
    }
   ],
   "source": [
    "print(X_train_static.shape)\n",
    "print(y_train_static.shape)\n",
    "print(X_test_static.shape)\n",
    "print(y_test_static.shape)\n"
   ]
  },
  {
   "cell_type": "code",
   "execution_count": 24,
   "metadata": {},
   "outputs": [],
   "source": [
    "model_static = Sequential()\n",
    "model_static.add(Conv1D(filters=64, kernel_size=5, padding='same', activation='relu',kernel_initializer='he_uniform', input_shape = (128,9)))\n",
    "model_static.add(Conv1D(filters=64, kernel_size=3, padding='same', activation='relu',kernel_initializer='he_uniform'))\n",
    "model_static.add(Dropout(0.2))\n",
    "model_static.add(MaxPooling1D(pool_size=2))\n",
    "model_static.add(Flatten())\n",
    "model_static.add(Dense(64, activation='relu',kernel_initializer='he_uniform'))\n",
    "model_static.add(BatchNormalization())\n",
    "model_static.add(Dropout(0.4))\n",
    "\n",
    "model_static.add(Dense(3, activation='softmax'))"
   ]
  },
  {
   "cell_type": "code",
   "execution_count": 29,
   "metadata": {},
   "outputs": [],
   "source": [
    "model_static.compile(loss='categorical_crossentropy', optimizer='adam', metrics=['accuracy'])"
   ]
  },
  {
   "cell_type": "code",
   "execution_count": 30,
   "metadata": {},
   "outputs": [
    {
     "name": "stdout",
     "output_type": "stream",
     "text": [
      "Train on 4067 samples, validate on 1560 samples\n",
      "Epoch 1/30\n",
      "4067/4067 [==============================] - 4s 881us/step - loss: 0.2829 - accuracy: 0.8866 - val_loss: 0.3625 - val_accuracy: 0.8673\n",
      "Epoch 2/30\n",
      "4067/4067 [==============================] - 2s 484us/step - loss: 0.2519 - accuracy: 0.8982 - val_loss: 0.3810 - val_accuracy: 0.8468\n",
      "Epoch 3/30\n",
      "4067/4067 [==============================] - 2s 494us/step - loss: 0.2284 - accuracy: 0.9103 - val_loss: 0.3993 - val_accuracy: 0.8603\n",
      "Epoch 4/30\n",
      "4067/4067 [==============================] - 2s 491us/step - loss: 0.2221 - accuracy: 0.9083 - val_loss: 0.3104 - val_accuracy: 0.8814\n",
      "Epoch 5/30\n",
      "4067/4067 [==============================] - 2s 468us/step - loss: 0.2145 - accuracy: 0.9095 - val_loss: 0.3260 - val_accuracy: 0.8853\n",
      "Epoch 6/30\n",
      "4067/4067 [==============================] - 2s 491us/step - loss: 0.2199 - accuracy: 0.9061 - val_loss: 0.3647 - val_accuracy: 0.8545\n",
      "Epoch 7/30\n",
      "4067/4067 [==============================] - 2s 506us/step - loss: 0.2003 - accuracy: 0.9166 - val_loss: 0.2742 - val_accuracy: 0.8885\n",
      "Epoch 8/30\n",
      "4067/4067 [==============================] - 2s 475us/step - loss: 0.2019 - accuracy: 0.9166 - val_loss: 0.2788 - val_accuracy: 0.8923\n",
      "Epoch 9/30\n",
      "4067/4067 [==============================] - 2s 468us/step - loss: 0.1936 - accuracy: 0.9194 - val_loss: 0.3283 - val_accuracy: 0.8244\n",
      "Epoch 10/30\n",
      "4067/4067 [==============================] - 2s 385us/step - loss: 0.1935 - accuracy: 0.9221 - val_loss: 0.2720 - val_accuracy: 0.8974\n",
      "Epoch 11/30\n",
      "4067/4067 [==============================] - 1s 318us/step - loss: 0.1772 - accuracy: 0.9299 - val_loss: 0.2622 - val_accuracy: 0.8981\n",
      "Epoch 12/30\n",
      "4067/4067 [==============================] - 1s 335us/step - loss: 0.1715 - accuracy: 0.9324 - val_loss: 0.2510 - val_accuracy: 0.9096\n",
      "Epoch 13/30\n",
      "4067/4067 [==============================] - 1s 336us/step - loss: 0.1639 - accuracy: 0.9329 - val_loss: 0.2796 - val_accuracy: 0.9058\n",
      "Epoch 14/30\n",
      "4067/4067 [==============================] - 1s 327us/step - loss: 0.1687 - accuracy: 0.9307 - val_loss: 0.3503 - val_accuracy: 0.8846\n",
      "Epoch 15/30\n",
      "4067/4067 [==============================] - 1s 329us/step - loss: 0.1584 - accuracy: 0.9383 - val_loss: 0.4261 - val_accuracy: 0.8378\n",
      "Epoch 16/30\n",
      "4067/4067 [==============================] - 1s 329us/step - loss: 0.1531 - accuracy: 0.9371 - val_loss: 0.3040 - val_accuracy: 0.8949\n",
      "Epoch 17/30\n",
      "4067/4067 [==============================] - 1s 318us/step - loss: 0.1414 - accuracy: 0.9437 - val_loss: 0.2748 - val_accuracy: 0.8699\n",
      "Epoch 18/30\n",
      "4067/4067 [==============================] - 1s 321us/step - loss: 0.1354 - accuracy: 0.9459 - val_loss: 0.2453 - val_accuracy: 0.8808\n",
      "Epoch 19/30\n",
      "4067/4067 [==============================] - 1s 320us/step - loss: 0.1268 - accuracy: 0.9479 - val_loss: 0.2386 - val_accuracy: 0.8885\n",
      "Epoch 20/30\n",
      "4067/4067 [==============================] - 1s 319us/step - loss: 0.1130 - accuracy: 0.9543 - val_loss: 0.2754 - val_accuracy: 0.9173\n",
      "Epoch 21/30\n",
      "4067/4067 [==============================] - 1s 319us/step - loss: 0.1177 - accuracy: 0.9508 - val_loss: 0.2255 - val_accuracy: 0.9026\n",
      "Epoch 22/30\n",
      "4067/4067 [==============================] - 1s 320us/step - loss: 0.1138 - accuracy: 0.9570 - val_loss: 0.2196 - val_accuracy: 0.9128\n",
      "Epoch 23/30\n",
      "4067/4067 [==============================] - 1s 321us/step - loss: 0.1171 - accuracy: 0.9562 - val_loss: 0.2389 - val_accuracy: 0.8981\n",
      "Epoch 24/30\n",
      "4067/4067 [==============================] - 1s 319us/step - loss: 0.1349 - accuracy: 0.9449 - val_loss: 0.2481 - val_accuracy: 0.8949\n",
      "Epoch 25/30\n",
      "4067/4067 [==============================] - 1s 319us/step - loss: 0.1081 - accuracy: 0.9567 - val_loss: 0.2221 - val_accuracy: 0.8878\n",
      "Epoch 26/30\n",
      "4067/4067 [==============================] - 1s 322us/step - loss: 0.1184 - accuracy: 0.9604 - val_loss: 0.2076 - val_accuracy: 0.9096\n",
      "Epoch 27/30\n",
      "4067/4067 [==============================] - 1s 321us/step - loss: 0.1022 - accuracy: 0.9597 - val_loss: 0.2163 - val_accuracy: 0.9205\n",
      "Epoch 28/30\n",
      "4067/4067 [==============================] - 1s 322us/step - loss: 0.1115 - accuracy: 0.9589 - val_loss: 0.2280 - val_accuracy: 0.9231\n",
      "Epoch 29/30\n",
      "4067/4067 [==============================] - 1s 321us/step - loss: 0.1216 - accuracy: 0.9501 - val_loss: 0.2154 - val_accuracy: 0.9205\n",
      "Epoch 30/30\n",
      "4067/4067 [==============================] - 1s 322us/step - loss: 0.1087 - accuracy: 0.9575 - val_loss: 0.2055 - val_accuracy: 0.9212\n"
     ]
    },
    {
     "data": {
      "text/plain": [
       "<keras.callbacks.callbacks.History at 0x1f16f92be08>"
      ]
     },
     "execution_count": 30,
     "metadata": {},
     "output_type": "execute_result"
    }
   ],
   "source": [
    "model_static.fit(X_train_static,y_train_static, epochs=30, batch_size=16,validation_data=(X_test_static, y_test_static))"
   ]
  },
  {
   "cell_type": "code",
   "execution_count": 65,
   "metadata": {},
   "outputs": [],
   "source": [
    "STATIC_ACTIVITIES = {\n",
    "    0:'SITTING',\n",
    "    1:'STANDING',\n",
    "    2:'LAYING'\n",
    "}\n",
    "\n",
    "y_pred = model_static.predict(X_test_static)"
   ]
  },
  {
   "cell_type": "code",
   "execution_count": 66,
   "metadata": {},
   "outputs": [],
   "source": [
    "#utility function to create confusion matrix\n",
    "def confusion_matrix_table(y_true, y_pred, activities):\n",
    "    y_true = pd.Series([activities[y] for y in np.argmax(y_true, axis = 1)])\n",
    "    y_pred = pd.Series([activities[y] for y in np.argmax(y_pred, axis = 1)])\n",
    "    \n",
    "    return confusion_matrix(y_true, y_pred)"
   ]
  },
  {
   "cell_type": "code",
   "execution_count": 68,
   "metadata": {
    "scrolled": true
   },
   "outputs": [
    {
     "data": {
      "image/png": "[encoded data removed]",
      "text/plain": [
       "<Figure size 432x432 with 2 Axes>"
      ]
     },
     "metadata": {},
     "output_type": "display_data"
    }
   ],
   "source": [
    "#plotting confusion matrix\n",
    "plt.figure(figsize=(6,6))\n",
    "plt.grid(b=False)\n",
    "cm = confusion_matrix_table(y_test_static, y_pred,activities = STATIC_ACTIVITIES)\n",
    "plot_confusion_matrix(cm, classes=['SITTING','STANDING','LAYING'],title='Confusion Matrix (Static Activities)')\n",
    "plt.show()"
   ]
  },
  {
   "cell_type": "code",
   "execution_count": 69,
   "metadata": {},
   "outputs": [
    {
     "data": {
      "image/png": "[encoded data removed]",
      "text/plain": [
       "<Figure size 432x432 with 2 Axes>"
      ]
     },
     "metadata": {},
     "output_type": "display_data"
    }
   ],
   "source": [
    "#plotting confusion matrix(normalized)\n",
    "plt.figure(figsize=(6,6))\n",
    "plt.grid(b=False)\n",
    "cm = confusion_matrix_table(y_test_static, y_pred,activities = STATIC_ACTIVITIES)\n",
    "plot_confusion_matrix(cm, classes=['SITTING','STANDING','LAYING'],title='Confusion Matrix (Static Activities)',normalize=True)\n",
    "plt.show()"
   ]
  },
  {
   "cell_type": "code",
   "execution_count": 96,
   "metadata": {},
   "outputs": [],
   "source": [
    "model.save('HAR_Proj/model/static_model.h5')"
   ]
  },
  {
   "cell_type": "markdown",
   "metadata": {},
   "source": [
    "### Model3 - Classyifying Dynamic Activities"
   ]
  },
  {
   "cell_type": "code",
   "execution_count": 87,
   "metadata": {},
   "outputs": [],
   "source": [
    "def load_dynamic_data(subset):\n",
    "    \"\"\"This method returns \n",
    "        a. one hot encoded labels of static actvities \n",
    "        b. pandas series containing static activities\"\"\"\n",
    "    fname = f'HAR/UCI_HAR_Dataset/{subset}/y_{subset}.txt'\n",
    "    y = _read_csv(fname)[0]\n",
    "    y_df = y <= 3\n",
    "    y=y[y_df]\n",
    "    return pd.get_dummies(y).to_numpy(),y_df"
   ]
  },
  {
   "cell_type": "code",
   "execution_count": 88,
   "metadata": {},
   "outputs": [],
   "source": [
    "y_train_dynamic, X_train_df = load_dynamic_data('train')\n",
    "y_test_dynamic, X_test_df = load_dynamic_data('test')"
   ]
  },
  {
   "cell_type": "code",
   "execution_count": 89,
   "metadata": {},
   "outputs": [],
   "source": [
    "X_train_dynamic = X_train[X_train_df]\n",
    "X_test_dynamic = X_test[X_test_df]"
   ]
  },
  {
   "cell_type": "code",
   "execution_count": 91,
   "metadata": {},
   "outputs": [
    {
     "name": "stdout",
     "output_type": "stream",
     "text": [
      "(3285, 128, 9)\n",
      "(3285, 3)\n",
      "(1387, 128, 9)\n",
      "(1387, 3)\n"
     ]
    }
   ],
   "source": [
    "print(X_train_dynamic.shape)\n",
    "print(y_train_dynamic.shape)\n",
    "print(X_test_dynamic.shape)\n",
    "print(y_test_dynamic.shape)\n"
   ]
  },
  {
   "cell_type": "code",
   "execution_count": 92,
   "metadata": {},
   "outputs": [],
   "source": [
    "model_dynamic = Sequential()\n",
    "model_dynamic.add(Conv1D(filters=64, kernel_size=5, padding='same',activation='relu',kernel_initializer='he_uniform',input_shape=(128,9)))\n",
    "model_dynamic.add(Conv1D(filters=64,kernel_size=3,padding='same',activation='relu',kernel_initializer='he_uniform'))\n",
    "model_dynamic.add(Dropout(0.4))\n",
    "model_dynamic.add(MaxPooling1D(pool_size=2))\n",
    "model_dynamic.add(Flatten())\n",
    "model_dynamic.add(Dense(64,activation='relu',kernel_initializer='he_uniform'))\n",
    "model_dynamic.add(BatchNormalization())\n",
    "model_dynamic.add(Dropout(0.2))\n",
    "model_dynamic.add(Dense(64))\n",
    "model_dynamic.add(BatchNormalization())\n",
    "model_dynamic.add(Dropout(0.2))\n",
    "model_dynamic.add(Dense(3,activation='softmax'))\n"
   ]
  },
  {
   "cell_type": "code",
   "execution_count": 93,
   "metadata": {},
   "outputs": [
    {
     "name": "stdout",
     "output_type": "stream",
     "text": [
      "Train on 3285 samples, validate on 1387 samples\n",
      "Epoch 1/30\n",
      "3285/3285 [==============================] - 5s 2ms/step - loss: 0.5159 - accuracy: 0.7954 - val_loss: 0.4153 - val_accuracy: 0.8104\n",
      "Epoch 2/30\n",
      "3285/3285 [==============================] - 3s 1ms/step - loss: 0.0777 - accuracy: 0.9732 - val_loss: 0.1385 - val_accuracy: 0.9611\n",
      "Epoch 3/30\n",
      "3285/3285 [==============================] - 3s 1ms/step - loss: 0.0727 - accuracy: 0.9775 - val_loss: 0.1591 - val_accuracy: 0.9531\n",
      "Epoch 4/30\n",
      "3285/3285 [==============================] - 3s 1ms/step - loss: 0.0261 - accuracy: 0.9915 - val_loss: 0.1792 - val_accuracy: 0.9539\n",
      "Epoch 5/30\n",
      "3285/3285 [==============================] - 3s 1ms/step - loss: 0.0152 - accuracy: 0.9960 - val_loss: 0.0983 - val_accuracy: 0.9704\n",
      "Epoch 6/30\n",
      "3285/3285 [==============================] - 3s 1ms/step - loss: 0.0186 - accuracy: 0.9945 - val_loss: 0.1140 - val_accuracy: 0.9640\n",
      "Epoch 7/30\n",
      "3285/3285 [==============================] - 3s 1ms/step - loss: 0.0235 - accuracy: 0.9930 - val_loss: 0.2089 - val_accuracy: 0.9128\n",
      "Epoch 8/30\n",
      "3285/3285 [==============================] - 3s 1ms/step - loss: 0.0396 - accuracy: 0.9866 - val_loss: 0.1545 - val_accuracy: 0.9560\n",
      "Epoch 9/30\n",
      "3285/3285 [==============================] - 3s 1ms/step - loss: 0.0268 - accuracy: 0.9912 - val_loss: 0.3030 - val_accuracy: 0.9207\n",
      "Epoch 10/30\n",
      "3285/3285 [==============================] - 3s 1ms/step - loss: 0.0353 - accuracy: 0.9900 - val_loss: 0.2281 - val_accuracy: 0.9099\n",
      "Epoch 11/30\n",
      "3285/3285 [==============================] - 3s 1ms/step - loss: 0.0144 - accuracy: 0.9945 - val_loss: 0.0735 - val_accuracy: 0.9805\n",
      "Epoch 12/30\n",
      "3285/3285 [==============================] - 3s 1ms/step - loss: 0.0079 - accuracy: 0.9985 - val_loss: 0.1065 - val_accuracy: 0.9776\n",
      "Epoch 13/30\n",
      "3285/3285 [==============================] - 3s 1ms/step - loss: 0.0932 - accuracy: 0.9744 - val_loss: 0.1273 - val_accuracy: 0.9704\n",
      "Epoch 14/30\n",
      "3285/3285 [==============================] - 3s 1ms/step - loss: 0.0460 - accuracy: 0.9854 - val_loss: 0.1092 - val_accuracy: 0.9668\n",
      "Epoch 15/30\n",
      "3285/3285 [==============================] - 3s 978us/step - loss: 0.0222 - accuracy: 0.9921 - val_loss: 0.2852 - val_accuracy: 0.8861\n",
      "Epoch 16/30\n",
      "3285/3285 [==============================] - 3s 1ms/step - loss: 0.0465 - accuracy: 0.9857 - val_loss: 0.3837 - val_accuracy: 0.8933\n",
      "Epoch 17/30\n",
      "3285/3285 [==============================] - 3s 1ms/step - loss: 0.0116 - accuracy: 0.9970 - val_loss: 0.1820 - val_accuracy: 0.9668\n",
      "Epoch 18/30\n",
      "3285/3285 [==============================] - 3s 1ms/step - loss: 0.0116 - accuracy: 0.9970 - val_loss: 0.1817 - val_accuracy: 0.9683\n",
      "Epoch 19/30\n",
      "3285/3285 [==============================] - 3s 1ms/step - loss: 0.0164 - accuracy: 0.9945 - val_loss: 0.1789 - val_accuracy: 0.9488\n",
      "Epoch 20/30\n",
      "3285/3285 [==============================] - 3s 1ms/step - loss: 0.0138 - accuracy: 0.9954 - val_loss: 0.2147 - val_accuracy: 0.9531\n",
      "Epoch 21/30\n",
      "3285/3285 [==============================] - 3s 1ms/step - loss: 0.0132 - accuracy: 0.9948 - val_loss: 0.1188 - val_accuracy: 0.9762\n",
      "Epoch 22/30\n",
      "3285/3285 [==============================] - 3s 1ms/step - loss: 0.0060 - accuracy: 0.9976 - val_loss: 0.1005 - val_accuracy: 0.9798\n",
      "Epoch 23/30\n",
      "3285/3285 [==============================] - 3s 1ms/step - loss: 0.0058 - accuracy: 0.9979 - val_loss: 0.0808 - val_accuracy: 0.9820\n",
      "Epoch 24/30\n",
      "3285/3285 [==============================] - 3s 1ms/step - loss: 0.0053 - accuracy: 0.9982 - val_loss: 0.1062 - val_accuracy: 0.9748\n",
      "Epoch 25/30\n",
      "3285/3285 [==============================] - 3s 1ms/step - loss: 0.0070 - accuracy: 0.9985 - val_loss: 0.0852 - val_accuracy: 0.9798\n",
      "Epoch 26/30\n",
      "3285/3285 [==============================] - 3s 1ms/step - loss: 0.0020 - accuracy: 1.0000 - val_loss: 0.1027 - val_accuracy: 0.9755\n",
      "Epoch 27/30\n",
      "3285/3285 [==============================] - 3s 1ms/step - loss: 0.0039 - accuracy: 0.9985 - val_loss: 0.1348 - val_accuracy: 0.9740\n",
      "Epoch 28/30\n",
      "3285/3285 [==============================] - 3s 972us/step - loss: 0.0254 - accuracy: 0.9939 - val_loss: 0.0773 - val_accuracy: 0.9776\n",
      "Epoch 29/30\n",
      "3285/3285 [==============================] - 3s 1ms/step - loss: 0.0161 - accuracy: 0.9939 - val_loss: 0.2517 - val_accuracy: 0.9459\n",
      "Epoch 30/30\n",
      "3285/3285 [==============================] - 3s 1ms/step - loss: 0.0083 - accuracy: 0.9970 - val_loss: 0.1907 - val_accuracy: 0.9719\n"
     ]
    },
    {
     "data": {
      "text/plain": [
       "<keras.callbacks.callbacks.History at 0x1f12070dcc8>"
      ]
     },
     "execution_count": 93,
     "metadata": {},
     "output_type": "execute_result"
    }
   ],
   "source": [
    "model_dynamic.compile(loss='categorical_crossentropy', optimizer='adam', metrics=['accuracy'])\n",
    "model_dynamic.fit(X_train_dynamic,y_train_dynamic,epochs = 30, batch_size=16,validation_data=(X_test_dynamic,y_test_dynamic))"
   ]
  },
  {
   "cell_type": "code",
   "execution_count": 94,
   "metadata": {},
   "outputs": [],
   "source": [
    "DYNAMIC_ACTIVITIES = {\n",
    "    0:'WALKING',\n",
    "    1:'WALKING_UPSTAIRS',\n",
    "    2:'WALKING_DOWNSTAIRS'\n",
    "}\n",
    "\n",
    "y_pred = model_dynamic.predict(X_test_dynamic)"
   ]
  },
  {
   "cell_type": "code",
   "execution_count": 95,
   "metadata": {},
   "outputs": [
    {
     "data": {
      "image/png": "[encoded data removed]",
      "text/plain": [
       "<Figure size 432x432 with 2 Axes>"
      ]
     },
     "metadata": {},
     "output_type": "display_data"
    }
   ],
   "source": [
    "#plotting confusion matrix(normalized)\n",
    "plt.figure(figsize=(6,6))\n",
    "plt.grid(b=False)\n",
    "cm = confusion_matrix_table(y_test_dynamic, y_pred,activities = DYNAMIC_ACTIVITIES)\n",
    "plot_confusion_matrix(cm, classes=['WALKING','WALKING_UPSTAIRS','WALKING_DOWNSTAIRS'],title='Confusion Matrix (Dynamic Activities)',normalize=True)\n",
    "plt.show()"
   ]
  },
  {
   "cell_type": "code",
   "execution_count": 97,
   "metadata": {},
   "outputs": [],
   "source": [
    "model.save('HAR_Proj/model/dynamic_model.h5')"
   ]
  },
  {
   "cell_type": "markdown",
   "metadata": {},
   "source": [
    "### Prediction Pipeline"
   ]
  },
  {
   "cell_type": "code",
   "execution_count": 132,
   "metadata": {},
   "outputs": [],
   "source": [
    "pred_binary = model.predict(X_test)\n",
    "y_predict_binary = np.argmax(pred_binary, axis = 1)\n",
    "\n",
    "X_static = X_test[y_predict_binary == 1]\n",
    "X_dynamic = X_test[y_predict_binary == 0]"
   ]
  },
  {
   "cell_type": "code",
   "execution_count": 133,
   "metadata": {},
   "outputs": [],
   "source": [
    "#classifying among static activities\n",
    "static_predict = model_static.predict(X_static)\n",
    "static_predict = np.argmax(static_predict, axis =1)\n",
    "static_predict = static_predict + 4"
   ]
  },
  {
   "cell_type": "code",
   "execution_count": 134,
   "metadata": {},
   "outputs": [],
   "source": [
    "#classifying among dynamic activities\n",
    "dynamic_predict = model_dynamic.predict(X_dynamic)\n",
    "dynamic_predict = np.argmax(dynamic_predict, axis =1)\n",
    "dynamic_predict = dynamic_predict + 1"
   ]
  },
  {
   "cell_type": "code",
   "execution_count": 135,
   "metadata": {},
   "outputs": [],
   "source": [
    "final_prediction = []\n",
    "i,j = 0,0\n",
    "\n",
    "\n",
    "for idx in y_predict_binary:\n",
    "    if idx == 1:\n",
    "        final_prediction.append(static_predict[i])\n",
    "        i+=1\n",
    "    else:\n",
    "        final_prediction.append(dynamic_predict[j])\n",
    "        j+=1"
   ]
  },
  {
   "cell_type": "code",
   "execution_count": 143,
   "metadata": {},
   "outputs": [
    {
     "name": "stdout",
     "output_type": "stream",
     "text": [
      "Accuracy on the test data from the final model =  0.9440108585001696\n"
     ]
    }
   ],
   "source": [
    "fname = f'HAR/UCI_HAR_Dataset/test/y_test.txt'\n",
    "ytest = _read_csv(fname)[0]\n",
    "\n",
    "print(\"Accuracy on the test data from the final model = \", accuracy_score(ytest, final_prediction))"
   ]
  },
  {
   "cell_type": "markdown",
   "metadata": {},
   "source": [
    "> Thus the divide and conquer approach has performed substantially better than the 2 LSTM model."
   ]
  },
  {
   "cell_type": "code",
   "execution_count": 142,
   "metadata": {},
   "outputs": [
    {
     "data": {
      "image/png": "[encoded data removed]",
      "text/plain": [
       "<Figure size 432x432 with 2 Axes>"
      ]
     },
     "metadata": {},
     "output_type": "display_data"
    }
   ],
   "source": [
    "ACTIVITIES = {\n",
    "    0:'WALKING',\n",
    "    1:'WALKING_UPSTAIRS',\n",
    "    2:'WALKING_DOWNSTAIRS',\n",
    "    3:'STANDING',\n",
    "    4:'SITTING',\n",
    "    5:'LAYING'\n",
    "}\n",
    "\n",
    "#plotting confusion matrix(normalized)\n",
    "plt.figure(figsize=(6,6))\n",
    "plt.grid(b=False)\n",
    "cm = confusion_matrix_table(Y_test, pd.get_dummies(final_prediction).to_numpy(),activities = ACTIVITIES)\n",
    "plot_confusion_matrix(cm, classes=['WALKING','WALKING_UPSTAIRS','WALKING_DOWNSTAIRS','STANDING','SITTING','LAYING'],title='Confusion Matrix (Dynamic Activities)',normalize=True)\n",
    "plt.show()"
   ]
  },
  {
   "cell_type": "code",
   "execution_count": null,
   "metadata": {},
   "outputs": [],
   "source": []
  }
 ],
 "metadata": {
  "kernelspec": {
   "display_name": "TensorFlow-GPU",
   "language": "python",
   "name": "tf-gpu"
  },
  "language_info": {
   "codemirror_mode": {
    "name": "ipython",
    "version": 3
   },
   "file_extension": ".py",
   "mimetype": "text/x-python",
   "name": "python",
   "nbconvert_exporter": "python",
   "pygments_lexer": "ipython3",
   "version": "3.7.7"
  }
 },
 "nbformat": 4,
 "nbformat_minor": 4
}
